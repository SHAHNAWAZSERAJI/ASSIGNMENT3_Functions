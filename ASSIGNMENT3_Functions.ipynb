{
  "nbformat": 4,
  "nbformat_minor": 0,
  "metadata": {
    "colab": {
      "provenance": []
    },
    "kernelspec": {
      "name": "python3",
      "display_name": "Python 3"
    },
    "language_info": {
      "name": "python"
    }
  },
  "cells": [
    {
      "cell_type": "markdown",
      "source": [
        "# **Theory Questions:**"
      ],
      "metadata": {
        "id": "4QDeYNDRgCsC"
      }
    },
    {
      "cell_type": "markdown",
      "source": [
        " 1. What is the difference between a function and a method in Python?\n",
        "   - A function is a block of reusable code that performs a specific task. It can be defined using 'def' and called independently.\n",
        "A method is a function that is associated with an object and is called using dot notation.\n",
        "\n",
        "   Example:\n",
        "    def greet():\n",
        "    return 'Hi'\n",
        "    list.append(1)"
      ],
      "metadata": {
        "id": "pN_q3XWkgZdh"
      }
    },
    {
      "cell_type": "markdown",
      "source": [
        "2. Explain the concept of function arguments and parameters in Python.\n",
        "   -  Parameters are the variable names in function definitions, while arguments are the actual values passed during the function call.\n",
        "    Example:\n",
        "    def add(a, b):  # a  and b are variable\n",
        "    return a + b\n",
        "    add(2, 3) # 2 and 3 are arguments"
      ],
      "metadata": {
        "id": "T-3btSjFguDo"
      }
    },
    {
      "cell_type": "markdown",
      "source": [
        "3. What are the different ways to define and call a function in Python?\n",
        "   - Functions can be defined using 'def' or 'lambda'.\n",
        "     Called by: func_name() or func_name(arg1, arg2).\n",
        "\n",
        "    Example:\n",
        "    def square(x):\n",
        "    return x*x\n",
        "    square(4)"
      ],
      "metadata": {
        "id": "5y--s_LLgyBf"
      }
    },
    {
      "cell_type": "markdown",
      "source": [
        "4. What is the purpose of the `return` statement in a Python function?\n",
        "   - The 'return' statement sends back the result to the caller and ends the function execution.\n",
        "    Example:\n",
        "    def add(a, b): return a + b"
      ],
      "metadata": {
        "id": "vWACj-iCg1HX"
      }
    },
    {
      "cell_type": "markdown",
      "source": [
        "5. What are iterators in Python and how do they differ from iterables?\n",
        "   - Iterators are objects with a __next__() method and can be iterated upon.\n",
        "      Iterables are collections like lists or tuples that can be converted into iterators.\n",
        "    Example: iter([1,2,3])"
      ],
      "metadata": {
        "id": "FFWrCopCg3j5"
      }
    },
    {
      "cell_type": "markdown",
      "source": [
        "6. Explain the concept of generators in Python and how they are defined.\n",
        "  - Generators are special functions that yield items one by one using the 'yield' keyword.\n",
        "    Example:\n",
        "    def gen(): yield 1; yield 2"
      ],
      "metadata": {
        "id": "ysIuW9UVg6KH"
      }
    },
    {
      "cell_type": "markdown",
      "source": [
        " 7. What are the advantages of using generators over regular functions?\n",
        "   - Generators are memory efficient and lazy-evaluated. They compute values only when needed, unlike returning a complete list."
      ],
      "metadata": {
        "id": "D_PkKZGxg8N_"
      }
    },
    {
      "cell_type": "markdown",
      "source": [
        "8. What is a lambda function in Python and when is it typically used?\n",
        "   - A lambda function is a small anonymous function defined with the 'lambda' keyword. Used when short, throwaway functions are needed.\n",
        "    Example: lambda x: x+2"
      ],
      "metadata": {
        "id": "Nj_XLbKWg_f_"
      }
    },
    {
      "cell_type": "markdown",
      "source": [
        "9. Explain the purpose and usage of the `map()` function in Python.\n",
        "   - The 'map()' function applies a given function to each item in an iterable.\n",
        "    Example: map(lambda x: x*2, [1, 2, 3])"
      ],
      "metadata": {
        "id": "bXXyb7bRhB__"
      }
    },
    {
      "cell_type": "markdown",
      "source": [
        "10. What is the difference between `map()`, `reduce()`, and `filter()` functions in Python?\n",
        "   - 'map()' transforms each element; 'filter()' selects elements based on a condition; 'reduce()' aggregates\n",
        "elements to a single value."
      ],
      "metadata": {
        "id": "rr2Rj7_PhEjv"
      }
    },
    {
      "cell_type": "markdown",
      "source": [
        "11. Using pen & Paper write the internal mechanism for sum operation using  reduce function on this given list:[47,11,42,13];\n",
        "  - from functools import reduce\n",
        "\n",
        "    reduce(lambda x, y: x + y, [47, 11, 42, 13])\n"
      ],
      "metadata": {
        "id": "ZM7po_XLhT0n"
      }
    },
    {
      "cell_type": "markdown",
      "source": [
        "# **Practical Questions**"
      ],
      "metadata": {
        "id": "LADQhyH6hvpt"
      }
    },
    {
      "cell_type": "markdown",
      "source": [
        " 1. Write a Python function that takes a list of numbers as input and returns the sum of all even numbers in\n",
        "the list.\n",
        ""
      ],
      "metadata": {
        "id": "5C5tR-rYhufm"
      }
    },
    {
      "cell_type": "code",
      "source": [
        "def sum_even(numbers):\n",
        "    return sum(num for num in numbers if num % 2 == 0)\n"
      ],
      "metadata": {
        "id": "Kwdd1azAvKiG"
      },
      "execution_count": 3,
      "outputs": []
    },
    {
      "cell_type": "code",
      "source": [
        "sum_even([1,2,4,5,6,8])"
      ],
      "metadata": {
        "colab": {
          "base_uri": "https://localhost:8080/"
        },
        "id": "Jw25VV-BBaAT",
        "outputId": "627b9c97-d356-4fee-e96f-97175963eaf3"
      },
      "execution_count": 5,
      "outputs": [
        {
          "output_type": "execute_result",
          "data": {
            "text/plain": [
              "20"
            ]
          },
          "metadata": {},
          "execution_count": 5
        }
      ]
    },
    {
      "cell_type": "markdown",
      "source": [
        "2. Create a Python function that accepts a string and returns the reverse of that string.\n",
        ""
      ],
      "metadata": {
        "id": "iXMMI5vWhzuN"
      }
    },
    {
      "cell_type": "code",
      "source": [
        "def reverse_string(s):\n",
        "    return s[::-1]"
      ],
      "metadata": {
        "id": "lTdKLb9xh3JH"
      },
      "execution_count": 6,
      "outputs": []
    },
    {
      "cell_type": "code",
      "source": [
        "reverse_string(\"pwskill\")"
      ],
      "metadata": {
        "colab": {
          "base_uri": "https://localhost:8080/",
          "height": 35
        },
        "id": "ax9j1QS4BsPa",
        "outputId": "aa194636-4d66-45ef-963f-f7007844568b"
      },
      "execution_count": 7,
      "outputs": [
        {
          "output_type": "execute_result",
          "data": {
            "text/plain": [
              "'llikswp'"
            ],
            "application/vnd.google.colaboratory.intrinsic+json": {
              "type": "string"
            }
          },
          "metadata": {},
          "execution_count": 7
        }
      ]
    },
    {
      "cell_type": "markdown",
      "source": [
        "3. Implement a Python function that takes a list of integers and returns a new list containing the squares of\n",
        "each number.\n",
        ""
      ],
      "metadata": {
        "id": "scbSnUMch3n9"
      }
    },
    {
      "cell_type": "code",
      "source": [
        "def square_list(lst):\n",
        "    return [x**2 for x in lst]\n"
      ],
      "metadata": {
        "id": "84utfV9ch5-V"
      },
      "execution_count": 8,
      "outputs": []
    },
    {
      "cell_type": "code",
      "source": [
        "lst=[2,4,3,4]\n",
        "square_list(lst)"
      ],
      "metadata": {
        "colab": {
          "base_uri": "https://localhost:8080/"
        },
        "id": "T3RX2tRXB5f4",
        "outputId": "210f0af6-3a04-491b-f6cc-7ca6bf709c9f"
      },
      "execution_count": 9,
      "outputs": [
        {
          "output_type": "execute_result",
          "data": {
            "text/plain": [
              "[4, 16, 9, 16]"
            ]
          },
          "metadata": {},
          "execution_count": 9
        }
      ]
    },
    {
      "cell_type": "markdown",
      "source": [
        " 4. Write a Python function that checks if a given number is prime or not from 1 to 200."
      ],
      "metadata": {
        "id": "t1gfq5KI1VMn"
      }
    },
    {
      "cell_type": "code",
      "source": [
        "def is_prime(n):\n",
        "    if n < 2:\n",
        "        return False\n",
        "    for i in range(2, int(n**0.5)+1):\n",
        "        if n % i == 0:\n",
        "            return False\n",
        "    return True\n",
        "\n",
        "for i in range(1, 201):\n",
        "    if is_prime(i):\n",
        "        print(i)"
      ],
      "metadata": {
        "colab": {
          "base_uri": "https://localhost:8080/"
        },
        "id": "3dCAu6BniBgk",
        "outputId": "3e6b980e-e771-4b27-a5d7-2fbce61f2053"
      },
      "execution_count": 10,
      "outputs": [
        {
          "output_type": "stream",
          "name": "stdout",
          "text": [
            "2\n",
            "3\n",
            "5\n",
            "7\n",
            "11\n",
            "13\n",
            "17\n",
            "19\n",
            "23\n",
            "29\n",
            "31\n",
            "37\n",
            "41\n",
            "43\n",
            "47\n",
            "53\n",
            "59\n",
            "61\n",
            "67\n",
            "71\n",
            "73\n",
            "79\n",
            "83\n",
            "89\n",
            "97\n",
            "101\n",
            "103\n",
            "107\n",
            "109\n",
            "113\n",
            "127\n",
            "131\n",
            "137\n",
            "139\n",
            "149\n",
            "151\n",
            "157\n",
            "163\n",
            "167\n",
            "173\n",
            "179\n",
            "181\n",
            "191\n",
            "193\n",
            "197\n",
            "199\n"
          ]
        }
      ]
    },
    {
      "cell_type": "markdown",
      "source": [
        "5. Create an iterator class in Python that generates the Fibonacci sequence up to a specified number of\n",
        "terms.\n",
        ""
      ],
      "metadata": {
        "id": "pVMPkNzJiDfl"
      }
    },
    {
      "cell_type": "code",
      "source": [
        "class Fibonacci:\n",
        "    def __init__(self, max_terms):\n",
        "        self.max = max_terms\n",
        "        self.a, self.b = 0, 1\n",
        "        self.count = 0\n",
        "\n",
        "    def __iter__(self):\n",
        "        return self\n",
        "\n",
        "    def __next__(self):\n",
        "        if self.count >= self.max:\n",
        "            raise StopIteration\n",
        "        self.count += 1\n",
        "        self.a, self.b = self.b, self.a + self.b\n",
        "        return self.a\n"
      ],
      "metadata": {
        "id": "WFedvvnOiFam"
      },
      "execution_count": 11,
      "outputs": []
    },
    {
      "cell_type": "markdown",
      "source": [
        "6. Write a generator function in Python that yields the powers of 2 up to a given exponent.\n",
        ""
      ],
      "metadata": {
        "id": "qUh5dx13iF41"
      }
    },
    {
      "cell_type": "code",
      "source": [
        "def powers_of_two(n):\n",
        "    for i in range(n+1):\n",
        "        yield 2 ** i"
      ],
      "metadata": {
        "id": "B9TYSCqZiHqd"
      },
      "execution_count": 12,
      "outputs": []
    },
    {
      "cell_type": "markdown",
      "source": [
        "7. Implement a generator function that reads a file line by line and yields each line as a string.\n"
      ],
      "metadata": {
        "id": "cC-m5t--iIC9"
      }
    },
    {
      "cell_type": "code",
      "source": [
        "def read_file(filename):\n",
        "    with open(filename, 'r') as file:\n",
        "        for line in file:\n",
        "            yield line.strip()"
      ],
      "metadata": {
        "id": "j57-anN9iKFN"
      },
      "execution_count": 13,
      "outputs": []
    },
    {
      "cell_type": "markdown",
      "source": [
        " 8. Use a lambda function in Python to sort a list of tuples based on the second element of each tuple.\n",
        ""
      ],
      "metadata": {
        "id": "SkxA0rTMiKZM"
      }
    },
    {
      "cell_type": "code",
      "source": [
        "tuples = [(1, 3), (2, 1), (4, 2)]\n",
        "sorted_list = sorted(tuples, key=lambda x: x[1])\n",
        "print(sorted_list)"
      ],
      "metadata": {
        "colab": {
          "base_uri": "https://localhost:8080/"
        },
        "id": "QY0GtMcXiNM0",
        "outputId": "ebaf5f42-65fd-40ce-e747-036175283f6e"
      },
      "execution_count": 14,
      "outputs": [
        {
          "output_type": "stream",
          "name": "stdout",
          "text": [
            "[(2, 1), (4, 2), (1, 3)]\n"
          ]
        }
      ]
    },
    {
      "cell_type": "markdown",
      "source": [
        "9. Write a Python program that uses `map()` to convert a list of temperatures from Celsius to Fahrenheit.\n",
        ""
      ],
      "metadata": {
        "id": "CiSmPsdJiNqd"
      }
    },
    {
      "cell_type": "code",
      "source": [
        "celsius = [0, 10, 20, 30]\n",
        "fahrenheit = list(map(lambda c: (9/5)*c + 32, celsius))\n",
        "print(fahrenheit)"
      ],
      "metadata": {
        "colab": {
          "base_uri": "https://localhost:8080/"
        },
        "id": "cfgOVJCQiP08",
        "outputId": "f21c05d1-77fd-40d8-cd76-51b3b59ac3d6"
      },
      "execution_count": 15,
      "outputs": [
        {
          "output_type": "stream",
          "name": "stdout",
          "text": [
            "[32.0, 50.0, 68.0, 86.0]\n"
          ]
        }
      ]
    },
    {
      "cell_type": "markdown",
      "source": [
        "10. Create a Python program that uses `filter()` to remove all the vowels from a given string."
      ],
      "metadata": {
        "id": "RtY0KaKziQp8"
      }
    },
    {
      "cell_type": "code",
      "source": [
        "s = \"Hello World\"\n",
        "vowels = 'aeiouAEIOU'\n",
        "result = ''.join(filter(lambda x: x not in vowels, s))\n",
        "print(result)"
      ],
      "metadata": {
        "colab": {
          "base_uri": "https://localhost:8080/"
        },
        "id": "ss8ng1JIiVe8",
        "outputId": "ffdd4bab-94c9-4254-a347-2ebf94e9f19c"
      },
      "execution_count": 16,
      "outputs": [
        {
          "output_type": "stream",
          "name": "stdout",
          "text": [
            "Hll Wrld\n"
          ]
        }
      ]
    },
    {
      "cell_type": "markdown",
      "source": [
        "11) Imagine an accounting routine used in a book shop. It works on a list with sublists, which look like this:\n",
        " Write a Python program, which returns a list with 2-tuples. Each tuple consists of the order number and the\n",
        "product of the price per item and the quantity. The product should be increased by 10,- € if the value of the\n",
        "order is smaller than 100,00 €.\n",
        " Write a Python program using lambda and map"
      ],
      "metadata": {
        "id": "3lRdvRQ8iV0s"
      }
    },
    {
      "cell_type": "code",
      "source": [
        "orders = [\n",
        "    [34587, \"Learning Python\", 4, 40.95],\n",
        "    [98762, \"Programming Python\", 5, 56.80],\n",
        "    [77226, \"Head First Python\", 3, 32.95],\n",
        "    [88112, \"Einführung in Python3\", 3, 24.99]\n",
        "]\n",
        "\n",
        "result = list(map(lambda order:\n",
        "    (order[0], order[2]*order[3] + 10 if order[2]*order[3] < 100 else order[2]*order[3]), orders))\n",
        "print(result)\n"
      ],
      "metadata": {
        "colab": {
          "base_uri": "https://localhost:8080/"
        },
        "id": "b1TMQTDYifRr",
        "outputId": "09792335-5f94-4741-b376-310a1510802e"
      },
      "execution_count": 17,
      "outputs": [
        {
          "output_type": "stream",
          "name": "stdout",
          "text": [
            "[(34587, 163.8), (98762, 284.0), (77226, 108.85000000000001), (88112, 84.97)]\n"
          ]
        }
      ]
    }
  ]
}